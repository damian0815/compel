{
 "cells": [
  {
   "cell_type": "code",
   "id": "4f9760a4-bfea-4def-a5be-1a00a4babba2",
   "metadata": {},
   "source": [
    "%load_ext autoreload\n",
    "%autoreload 2"
   ],
   "outputs": [],
   "execution_count": null
  },
  {
   "cell_type": "code",
   "id": "593b47bf",
   "metadata": {
    "scrolled": true
   },
   "source": [
    "from diffusers import DiffusionPipeline\n",
    "import torch\n",
    "\n",
    "device='mps'\n",
    "pipeline = DiffusionPipeline.from_pretrained(\"stabilityai/stable-diffusion-xl-base-1.0\", variant=\"fp16\", use_safetensors=True, torch_dtype=torch.float16).to(device)"
   ],
   "outputs": [],
   "execution_count": null
  },
  {
   "metadata": {},
   "cell_type": "markdown",
   "source": "## Directly using the pipeline",
   "id": "c11f6dfff285c5e6"
  },
  {
   "metadata": {},
   "cell_type": "code",
   "source": [
    "image = pipeline(prompt=\"A cat playing with a ball in the forest\", negative_prompt=\"deformed, ugly\",\n",
    "                 num_inference_steps=10, width=512, height=512).images[0]\n",
    "image"
   ],
   "id": "88a899599e2d9def",
   "outputs": [],
   "execution_count": null
  },
  {
   "metadata": {},
   "cell_type": "markdown",
   "source": "## Using Compel, no weighting",
   "id": "cb1daf4d6b6d9d0c"
  },
  {
   "metadata": {},
   "cell_type": "code",
   "source": [
    "from compel import CompelForSDXL\n",
    "compel = CompelForSDXL(pipeline)\n",
    "\n",
    "conditioning = compel([\"A cat playing with a ball in the forest\", \"deformed, ugly\"])\n",
    "image = pipeline(prompt_embeds=conditioning.embeds[0:1], pooled_prompt_embeds=conditioning.pooled_embeds[0:1],\n",
    "                 negative_prompt_embeds=conditioning.embeds[1:2], negative_pooled_prompt_embeds=conditioning.pooled_embeds[1:2],\n",
    "                 num_inference_steps=10, width=512, height=512).images[0]\n",
    "image"
   ],
   "id": "1b45ee5e2452e8e7",
   "outputs": [],
   "execution_count": null
  },
  {
   "metadata": {},
   "cell_type": "markdown",
   "source": "## Using Compel, with weighting",
   "id": "eab3393b016d9295"
  },
  {
   "metadata": {},
   "cell_type": "code",
   "outputs": [],
   "execution_count": null,
   "source": [
    "from compel import CompelForSDXL\n",
    "compel = CompelForSDXL(pipeline)\n",
    "\n",
    "conditioning = compel([\"A cat playing with a ball in the forest\", \"deformed, ugly\"])\n",
    "image = pipeline(prompt_embeds=conditioning.embeds[0:1], pooled_prompt_embeds=conditioning.pooled_embeds[0:1],\n",
    "                 negative_prompt_embeds=conditioning.embeds[1:2], negative_pooled_prompt_embeds=conditioning.pooled_embeds[1:2],\n",
    "                 num_inference_steps=10, width=512, height=512).images[0]\n",
    "image"
   ],
   "id": "b1bfce5e381b57cd"
  },
  {
   "cell_type": "markdown",
   "source": [
    "## Long prompts"
   ],
   "metadata": {
    "collapsed": false
   },
   "id": "2a0aa04d1c6e3cd6"
  },
  {
   "cell_type": "code",
   "source": [
    "\n",
    "prompt = \"a cat playing with a ball++ in the forest\"\n",
    "negative_prompt = \"a long long long long long long long long long long long long long long long long long long long long long long long long long long long long long long long long long long long long long long long long long long long long long long long long long long long long long long long long long long long long long long long long long long long long long long long long long long long long long long long long long long long long long long long long long long long long long long long long long long long long long long long long long long long long long long long long long long negative prompt\"\n",
    "conditioning = compel([prompt, negative_prompt])\n",
    "print(conditioning.embeds.shape, conditioning.pooled_embeds.shape)\n",
    "\n",
    "image = pipeline(prompt_embeds=conditioning.embeds[0:1], pooled_prompt_embeds=conditioning.pooled_embeds[0:1],\n",
    "                 negative_prompt_embeds=conditioning.embeds[1:2], negative_pooled_prompt_embeds=conditioning.pooled_embeds[1:2],\n",
    "                 num_inference_steps=24, width=768, height=768).images[0]\n",
    "image"
   ],
   "metadata": {
    "collapsed": false,
    "is_executing": true
   },
   "id": "e9941e0e42e76b6",
   "outputs": [],
   "execution_count": null
  },
  {
   "cell_type": "markdown",
   "source": [
    "## Sequential cpu offload"
   ],
   "metadata": {
    "collapsed": false
   },
   "id": "3ed69a9a9e07eae8"
  },
  {
   "cell_type": "code",
   "id": "1685e7f8-1e41-46c1-92f8-9dcfec025db0",
   "metadata": {},
   "source": [
    "from compel import Compel, ReturnedEmbeddingsType\n",
    "\n",
    "compel = Compel(tokenizer=[pipeline.tokenizer, pipeline.tokenizer_2] , \n",
    "                text_encoder=[pipeline.text_encoder, pipeline.text_encoder_2], \n",
    "                returned_embeddings_type=ReturnedEmbeddingsType.PENULTIMATE_HIDDEN_STATES_NON_NORMALIZED, \n",
    "                requires_pooled=[False, True],\n",
    "                device=\"cuda\")\n",
    "\n",
    "pipeline.enable_sequential_cpu_offload()\n",
    "prompt = \"a cat playing with a ball++ in the forest\"\n",
    "negative_prompt = \"deformed, ugly\"\n",
    "conditioning, pooled = compel([prompt, negative_prompt])\n",
    "print(conditioning.shape, pooled.shape)\n",
    "\n",
    "image = pipeline(prompt_embeds=conditioning[0:1], pooled_prompt_embeds=pooled[0:1], \n",
    "                 negative_prompt_embeds=conditioning[1:2], negative_pooled_prompt_embeds=pooled[1:2],\n",
    "                 num_inference_steps=24, width=768, height=768).images[0]\n",
    "image"
   ],
   "outputs": [],
   "execution_count": null
  },
  {
   "cell_type": "markdown",
   "source": [
    "## Different prompts for different encoders"
   ],
   "metadata": {
    "collapsed": false
   },
   "id": "6a96381af5bdb52b"
  },
  {
   "cell_type": "code",
   "source": [
    "prompt1 = \"a cat playing with a ball++ in the forest\"\n",
    "prompt2 = \"forest ambience, high quality, detailed, intricate, artstation, 8k\"\n",
    "\n",
    "compel1 = Compel(\n",
    "    tokenizer=pipeline.tokenizer,\n",
    "    text_encoder=pipeline.text_encoder,\n",
    "    returned_embeddings_type=ReturnedEmbeddingsType.PENULTIMATE_HIDDEN_STATES_NON_NORMALIZED,\n",
    "    requires_pooled=False,\n",
    ")\n",
    "\n",
    "compel2 = Compel(\n",
    "    tokenizer=pipeline.tokenizer_2,\n",
    "    text_encoder=pipeline.text_encoder_2,\n",
    "    returned_embeddings_type=ReturnedEmbeddingsType.PENULTIMATE_HIDDEN_STATES_NON_NORMALIZED,\n",
    "    requires_pooled=True,\n",
    ")\n",
    "\n",
    "conditioning1 = compel1(prompt1)\n",
    "conditioning2, pooled = compel2(prompt2)\n",
    "conditioning = torch.cat((conditioning1, conditioning2), dim=-1)\n",
    "\n",
    "image = pipeline(prompt_embeds=conditioning, pooled_prompt_embeds=pooled, num_inference_steps=30).images[0]"
   ],
   "metadata": {
    "collapsed": false
   },
   "id": "ab10c0d2d52603c4",
   "outputs": [],
   "execution_count": null
  }
 ],
 "metadata": {
  "kernelspec": {
   "display_name": "Python 3 (ipykernel)",
   "language": "python",
   "name": "python3"
  },
  "language_info": {
   "codemirror_mode": {
    "name": "ipython",
    "version": 3
   },
   "file_extension": ".py",
   "mimetype": "text/x-python",
   "name": "python",
   "nbconvert_exporter": "python",
   "pygments_lexer": "ipython3",
   "version": "3.10.11"
  }
 },
 "nbformat": 4,
 "nbformat_minor": 5
}
