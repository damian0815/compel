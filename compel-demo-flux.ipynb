{
 "cells": [
  {
   "metadata": {},
   "cell_type": "code",
   "source": [
    "%load_ext autoreload\n",
    "%autoreload 2"
   ],
   "id": "382a771065312790",
   "outputs": [],
   "execution_count": null
  },
  {
   "cell_type": "code",
   "id": "initial_id",
   "metadata": {
    "collapsed": true
   },
   "source": [
    "from diffusers import DiffusionPipeline\n",
    "import torch\n",
    "\n",
    "pipe = DiffusionPipeline.from_pretrained(\"black-forest-labs/FLUX.1-schnell\", torch_dtype=torch.bfloat16)\n",
    "pipe = pipe.to('mps')"
   ],
   "outputs": [],
   "execution_count": null
  },
  {
   "metadata": {},
   "cell_type": "markdown",
   "source": "## Directly using the pipeline",
   "id": "eb2377d6364d3d6d"
  },
  {
   "metadata": {},
   "cell_type": "code",
   "outputs": [],
   "execution_count": null,
   "source": [
    "prompt = \"Astronaut in a jungle, cold color palette, muted colors, detailed, 8k\"\n",
    "generator = torch.Generator().manual_seed(42)\n",
    "image = pipe(prompt, num_inference_steps=4, width=512, height=512, generator=generator).images[0]\n",
    "image"
   ],
   "id": "54cf5ebe8243a550"
  },
  {
   "metadata": {},
   "cell_type": "markdown",
   "source": "## Using Compel, no weighting",
   "id": "f7df2f3fd3bef33"
  },
  {
   "metadata": {},
   "cell_type": "code",
   "source": [
    "from compel import CompelForFlux\n",
    "compel = CompelForFlux(pipe=pipe)\n",
    "\n",
    "conditioning = compel(prompt)\n",
    "generator = torch.Generator().manual_seed(42)\n",
    "image = pipe(prompt_embeds=conditioning.embeds, pooled_prompt_embeds=conditioning.pooled_embeds,\n",
    "             num_inference_steps=4, width=512, height=512, generator=generator).images[0]\n",
    "image"
   ],
   "id": "d25ba112bbc49296",
   "outputs": [],
   "execution_count": null
  },
  {
   "metadata": {},
   "cell_type": "markdown",
   "source": "## Using Compel, with weighting",
   "id": "1cac99c3309b157e"
  },
  {
   "metadata": {},
   "cell_type": "code",
   "outputs": [],
   "execution_count": null,
   "source": [
    "weighted_prompt = \"Astronaut++++ in a jungle----, cold color palette, muted colors, detailed, 8k\"\n",
    "weighted_conditioning = compel(weighted_prompt)\n",
    "generator = torch.Generator().manual_seed(42)\n",
    "image = pipe(prompt_embeds=weighted_conditioning.embeds, pooled_prompt_embeds=weighted_conditioning.pooled_embeds,\n",
    "             num_inference_steps=4, width=512, height=512, generator=generator).images[0]\n",
    "image"
   ],
   "id": "fd070b985ba651d6"
  }
 ],
 "metadata": {
  "kernelspec": {
   "display_name": "Python 3",
   "language": "python",
   "name": "python3"
  },
  "language_info": {
   "codemirror_mode": {
    "name": "ipython",
    "version": 2
   },
   "file_extension": ".py",
   "mimetype": "text/x-python",
   "name": "python",
   "nbconvert_exporter": "python",
   "pygments_lexer": "ipython2",
   "version": "2.7.6"
  }
 },
 "nbformat": 4,
 "nbformat_minor": 5
}
